{
 "cells": [
  {
   "cell_type": "code",
   "execution_count": null,
   "metadata": {},
   "outputs": [],
   "source": [
    "################################\n",
    "#\n",
    "# Author: Jacob Hartle\n",
    "# Creation Date: 6/20/2020\n",
    "#\n",
    "################################\n",
    "\n",
    "# Import modules\n",
    "from arcgis import GIS\n",
    "\n",
    "# Enter the URL to your ArcGIS Online Organization or Portal for ArcGIS\n",
    "portalURL = '<Your_Org_URL>'\n",
    "\n",
    "# Enter the username & password for an Administrator in your Organization\n",
    "username = '<Your_Username>'\n",
    "password = '<Your_Password>'\n",
    "\n",
    "# Connect to organization using defined variables above\n",
    "gis = GIS(portalURL, username, password)"
   ]
  },
  {
   "cell_type": "code",
   "execution_count": null,
   "metadata": {},
   "outputs": [],
   "source": [
    "# Create a search variable that will look for content in the organization and will exclude any content from \n",
    "# built in Esri accounts\n",
    "search = gis.content.search(query = \"NOT owner: esri*\",  max_items = 1000)\n",
    "\n",
    "# Call the search variable and display the results below\n",
    "search"
   ]
  }
 ],
 "metadata": {
  "kernelspec": {
   "display_name": "Python 3",
   "language": "python",
   "name": "python3"
  },
  "language_info": {
   "codemirror_mode": {
    "name": "ipython",
    "version": 3
   },
   "file_extension": ".py",
   "mimetype": "text/x-python",
   "name": "python",
   "nbconvert_exporter": "python",
   "pygments_lexer": "ipython3",
   "version": "3.6.9"
  }
 },
 "nbformat": 4,
 "nbformat_minor": 2
}