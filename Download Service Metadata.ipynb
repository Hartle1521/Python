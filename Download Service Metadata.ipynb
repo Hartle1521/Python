{
 "cells": [
  {
   "cell_type": "code",
   "execution_count": 3,
   "metadata": {},
   "outputs": [],
   "source": [
    "################################\n",
    "#\n",
    "# Author: Jacob Hartle\n",
    "# Creation Date: 6/20/2020\n",
    "#\n",
    "################################\n",
    "\n",
    "# Import modules\n",
    "from arcgis import GIS\n",
    "\n",
    "# Enter the URL to your ArcGIS Online Organization or Portal for ArcGIS\n",
    "portalURL = '<Your_Org_URL>'\n",
    "\n",
    "# Enter the username & password for an Administrator in your Organization\n",
    "username = '<Your_Username>'\n",
    "password = '<Your_Password>'\n",
    "\n",
    "# Connect to your ArcGIS Online or Portal organization\n",
    "gis = GIS(portalURL, username, password)"
   ]
  },
  {
   "cell_type": "code",
   "execution_count": 4,
   "metadata": {},
   "outputs": [
    {
     "data": {
      "text/html": [
       "<div class=\"item_container\" style=\"height: auto; overflow: hidden; border: 1px solid #cfcfcf; border-radius: 2px; background: #f6fafa; line-height: 1.21429em; padding: 10px;\">\n",
       "                    <div class=\"item_left\" style=\"width: 210px; float: left;\">\n",
       "                       <a href='https://jhartle.esri.com/portal2/home/item.html?id=51934bae02e146ad87fd4fdd7224b0f8' target='_blank'>\n",
       "                        <img src='https://jhartle.esri.com/portal2/portalimages/desktopapp.png' class=\"itemThumbnail\">\n",
       "                       </a>\n",
       "                    </div>\n",
       "\n",
       "                    <div class=\"item_right\"     style=\"float: none; width: auto; overflow: hidden;\">\n",
       "                        <a href='https://jhartle.esri.com/portal2/home/item.html?id=51934bae02e146ad87fd4fdd7224b0f8' target='_blank'><b>attach_test</b>\n",
       "                        </a>\n",
       "                        <br/><img src='https://jhartle.esri.com/portal2/home/js/jsapi/esri/css/images/item_type_icons/featureshosted16.png' style=\"vertical-align:middle;\">Feature Layer Collection by admin\n",
       "                        <br/>Last Modified: May 01, 2019\n",
       "                        <br/>0 comments, 2 views\n",
       "                    </div>\n",
       "                </div>\n",
       "                "
      ],
      "text/plain": [
       "<Item title:\"attach_test\" type:Feature Layer Collection owner:admin>"
      ]
     },
     "execution_count": 4,
     "metadata": {},
     "output_type": "execute_result"
    }
   ],
   "source": [
    "# Create a new variable and then get the Item ID you are interested in getting metadata for and store it in the variable\n",
    "test_item = gis.content.get(\"<Your_Item_ID>\")\n",
    "\n",
    "# Call the variable defined above and display the result below\n",
    "test_item"
   ]
  },
  {
   "cell_type": "code",
   "execution_count": 5,
   "metadata": {},
   "outputs": [],
   "source": [
    "# Download the metadata for the item, specify the output location and it will save as an XML document\n",
    "test_item.download_metadata(save_folder=r'<Your_Output_Location>')"
   ]
  }
 ],
 "metadata": {
  "kernelspec": {
   "display_name": "Python 3",
   "language": "python",
   "name": "python3"
  },
  "language_info": {
   "codemirror_mode": {
    "name": "ipython",
    "version": 3
   },
   "file_extension": ".py",
   "mimetype": "text/x-python",
   "name": "python",
   "nbconvert_exporter": "python",
   "pygments_lexer": "ipython3",
   "version": "3.6.9"
  }
 },
 "nbformat": 4,
 "nbformat_minor": 2
}