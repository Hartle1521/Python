{
 "cells": [
  {
   "cell_type": "code",
   "execution_count": null,
   "metadata": {},
   "outputs": [],
   "source": [
    "################################\n",
    "#\n",
    "# Author: Jacob Hartle\n",
    "# Creation Date: 6/20/2020\n",
    "#\n",
    "################################\n",
    "\n",
    "# Import modules \n",
    "from arcgis.gis import GIS\n",
    "\n",
    "# Enter the URL to your ArcGIS Online Organization or Portal for ArcGIS and username and password for the source organization\n",
    "# Make sure to connect with an admin user\n",
    "sourceURL = '<Your_Org_URL>'\n",
    "sourceUser = '<Your_Username>'\n",
    "sourcePass = '<Your_Password>'\n",
    "\n",
    "# Enter the URL to your ArcGIS Online Organization or Portal for ArcGIS and username and password for the target/destination organization\n",
    "# Make sure to connect with an admin user\n",
    "targetURL = '<Your_Org_URL>'\n",
    "targetUser = '<Your_Username>'\n",
    "targetPass = '<Your_Password>'"
   ]
  },
  {
   "cell_type": "code",
   "execution_count": null,
   "metadata": {},
   "outputs": [],
   "source": [
    "# Sign in to source Organization (org that has the content that you want to copy to the other org)\n",
    "sourceGis=GIS(sourceURL, sourceUser, sourcePass)\n",
    "\n",
    "# Sign in to the target Organization (org to copy the content into)\n",
    "targetGis = GIS(targetURL, targetUser, targetPass)"
   ]
  },
  {
   "cell_type": "code",
   "execution_count": null,
   "metadata": {},
   "outputs": [],
   "source": [
    "# Get connection properties for the source organization\n",
    "print( ' server: ' + sourceGis.properties.name )\n",
    "print( ' user: ' + sourceGis.properties.user.username )  \n",
    "print( ' role: ' + sourceGis.properties.user.role + \"\\n\")\n",
    "\n",
    "# Get connection properties for the target organization\n",
    "print( ' server: ' + targetGis.properties.name )\n",
    "print( ' user: ' + targetGis.properties.user.username )  \n",
    "print( ' role: ' + targetGis.properties.user.role )"
   ]
  },
  {
   "cell_type": "code",
   "execution_count": null,
   "metadata": {},
   "outputs": [],
   "source": [
    "# Get the item ID for the application/item you want to copy over\n",
    "# If you clone an app it will also clone the dependencies (e.g. web map, feature service)\n",
    "ops = sourceGis.content.get('<Your app/item ID>') # Replace with your web app ID (can be found in the item URL)\n",
    "\n",
    "# Call the variable to display it below\n",
    "ops"
   ]
  },
  {
   "cell_type": "code",
   "execution_count": null,
   "metadata": {},
   "outputs": [],
   "source": [
    "# Create a variable to clone the app (and its dependencies to the target org)\n",
    "ops_clone = targetGis.content.clone_items([ops], copy_data=True) \n",
    "\n",
    "# Call the variable to clone the content, this may take a couple of minutes depending on the size of the data, map, and app\n",
    "ops_clone"
   ]
  }
 ],
 "metadata": {
  "kernelspec": {
   "display_name": "Python 3",
   "language": "python",
   "name": "python3"
  },
  "language_info": {
   "codemirror_mode": {
    "name": "ipython",
    "version": 3
   },
   "file_extension": ".py",
   "mimetype": "text/x-python",
   "name": "python",
   "nbconvert_exporter": "python",
   "pygments_lexer": "ipython3",
   "version": "3.6.9"
  }
 },
 "nbformat": 4,
 "nbformat_minor": 2
}