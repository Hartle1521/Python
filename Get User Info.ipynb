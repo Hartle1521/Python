{
 "cells": [
  {
   "cell_type": "code",
   "execution_count": null,
   "metadata": {},
   "outputs": [],
   "source": [
    "################################\n",
    "#\n",
    "# Author: Jacob Hartle\n",
    "# Creation Date: 6/20/2020\n",
    "#\n",
    "################################\n",
    "\n",
    "# Import modules\n",
    "from arcgis.gis import GIS\n",
    "from arcgis.gis import RoleManager\n",
    "import getpass\n",
    "import csv, time\n",
    "\n",
    "# Enter the URL to your ArcGIS Online Organization or Portal for ArcGIS\n",
    "portalURL = '<Your_Org_URL>'\n",
    "\n",
    "# Enter the username & password for an Administrator in your Organization\n",
    "username = '<Your_Username>'\n",
    "password = '<Your_Password>'\n",
    "outputFile = r'C:\\temp\\output.csv'\n",
    "\n",
    "# Connect to Organization using the variables defined above\n",
    "gis = GIS(portalURL, username, password)\n",
    "\n",
    "# Search the organization for users\n",
    "allUsers = gis.users.search(max_users=1000) # Change max_users varialbe if you want to list more than 1000 users\n",
    "\n",
    "# Print how many users are in the organization\n",
    "print('Total Portal Users: ' + str(len(allUsers)))\n",
    "\n"
   ]
  },
  {
   "cell_type": "code",
   "execution_count": null,
   "metadata": {},
   "outputs": [],
   "source": [
    "# Open the CSV and write the header row\n",
    "with open(outputFile, 'w') as output:\n",
    "    dataWriter = csv.writer(output, delimiter=',', quotechar='\"', quoting=csv.QUOTE_MINIMAL, lineterminator='\\n')\n",
    "    # Write header row.\n",
    "    dataWriter.writerow(['Full Name',\n",
    "                         'Email',\n",
    "                         'Username',\n",
    "                         'Date Created',\n",
    "                         'Role',\n",
    "                         'Level',\n",
    "                         'Last Login'])\n",
    "    # For all of the users in our allUsers variable defined above, \n",
    "    # write their name, email, username, role, date created, user level, and their last login\n",
    "    for user in allUsers:\n",
    "        if user.role == 'org_admin':\n",
    "            userRole = 'Administrator'\n",
    "        elif user.role == 'org_publisher':\n",
    "            userRole = 'Publisher'\n",
    "        elif user.role == 'org_user':\n",
    "            userRole = 'User'\n",
    "        else:\n",
    "            userRole = RoleManager(gis).get_role(user.role).name\n",
    "\n",
    "        dataWriter.writerow([user['fullName'],\n",
    "                             user['email'],\n",
    "                             user['username'],\n",
    "                             time.strftime(\"%Y-%m-%d\",time.gmtime(user['created']/1000)),\n",
    "                             userRole,\n",
    "                             user['level'],\n",
    "                             time.strftime(\"%Y-%m-%d\",time.gmtime(user['lastLogin']/1000))])"
   ]
  }
 ],
 "metadata": {
  "kernelspec": {
   "display_name": "Python 3",
   "language": "python",
   "name": "python3"
  },
  "language_info": {
   "codemirror_mode": {
    "name": "ipython",
    "version": 3
   },
   "file_extension": ".py",
   "mimetype": "text/x-python",
   "name": "python",
   "nbconvert_exporter": "python",
   "pygments_lexer": "ipython3",
   "version": "3.6.9"
  }
 },
 "nbformat": 4,
 "nbformat_minor": 2
}