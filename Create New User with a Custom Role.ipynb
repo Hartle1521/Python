{
 "cells": [
  {
   "cell_type": "code",
   "execution_count": null,
   "metadata": {},
   "outputs": [],
   "source": [
    "################################\n",
    "#\n",
    "# Author: Jacob Hartle\n",
    "# Creation Date: 6/20/2020\n",
    "#\n",
    "################################\n",
    "\n",
    "# Import modules\n",
    "from arcgis import GIS\n",
    "\n",
    "# Enter the URL to your ArcGIS Online Organization or Portal for ArcGIS\n",
    "portalURL = '<Your_Org_URL>'\n",
    "\n",
    "# Enter the username & password for an Administrator in your Organization\n",
    "username = '<Your_Username>'\n",
    "password = '<Your_Password>'\n",
    "\n",
    "# Connect to your ArcGIS Online or Portal organization\n",
    "gis = GIS(portalURL, username, password)\n",
    "\n",
    "#Print properties of the connected user\n",
    "print( ' server: ' + gis.properties.name )\n",
    "print( ' user: ' + gis.properties.user.username )  \n",
    "print( ' role: ' + gis.properties.user.role )"
   ]
  },
  {
   "cell_type": "code",
   "execution_count": null,
   "metadata": {},
   "outputs": [],
   "source": [
    "# Create a variable to get a list of users\n",
    "users = gis.users.search(max_users=9999) \n",
    "\n",
    "# Print each username and roleID for the org, make note of the roleID that you want to assign to a new user\n",
    "# Note: In order for me to find the roleID for a test user I needed to first create the custom role in the UI and then assign it \n",
    "# to a test user in order to then document the ID and use on another new user\n",
    "for user in users: \n",
    "    print(user.roleId)\n",
    "    print(user.username)\n",
    "    print(\"--------------------------------\")"
   ]
  },
  {
   "cell_type": "code",
   "execution_count": null,
   "metadata": {},
   "outputs": [],
   "source": [
    "# Use the variables below to to define characteristics of the new user\n",
    "\n",
    "newuser = \"\"\n",
    "newpass = \"\"\n",
    "firstname1 = \"\"\n",
    "lastname1 = \"\"\n",
    "email1 = \"\"\n",
    "description1 = \"\"\n",
    "role1 = \"\" # '<Replace with your RoleID ex. eHwECjFFXoKbBZk8 >'\n",
    "userType1 = \"\"\n",
    "\n",
    "# Create a new user with a custom role, this will work since it uses the RoleID in the role parameter\n",
    "gis.users.create(username = newuser, password = newpass, firstname = firstname1, \n",
    "                 lastname = lastname1, email = email1, description = description1, \n",
    "                 role = role1, user_type = userType1)"
   ]
  }
 ],
 "metadata": {
  "kernelspec": {
   "display_name": "Python 3",
   "language": "python",
   "name": "python3"
  },
  "language_info": {
   "codemirror_mode": {
    "name": "ipython",
    "version": 3
   },
   "file_extension": ".py",
   "mimetype": "text/x-python",
   "name": "python",
   "nbconvert_exporter": "python",
   "pygments_lexer": "ipython3",
   "version": "3.6.9"
  }
 },
 "nbformat": 4,
 "nbformat_minor": 2
}
