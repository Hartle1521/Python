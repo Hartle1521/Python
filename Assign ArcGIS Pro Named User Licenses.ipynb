{
 "cells": [
  {
   "cell_type": "code",
   "execution_count": null,
   "metadata": {},
   "outputs": [],
   "source": [
    "################################\n",
    "#\n",
    "# Author: Jacob Hartle\n",
    "# Creation Date: 6/20/2020\n",
    "#\n",
    "################################\n",
    "\n",
    "# Import modules\n",
    "from arcgis import GIS\n",
    "\n",
    "# Enter the URL to your ArcGIS Online Organization or Portal for ArcGIS\n",
    "portalURL = '<Your_Org_URL>'\n",
    "\n",
    "# Enter the username & password for an Administrator in your Organization\n",
    "username = '<Your_Username>'\n",
    "password = '<Your_Password>'\n",
    "\n",
    "# Connect to your ArcGIS Online or Portal organization\n",
    "gis = GIS(portalURL, username, password)\n",
    "\n",
    "# Create a variable for the username to assign licenses to \n",
    "licUser = \"<Username_to_assign_a_license_to>\" # Change to the user you want to assign a license to"
   ]
  },
  {
   "cell_type": "code",
   "execution_count": null,
   "metadata": {},
   "outputs": [],
   "source": [
    "# Create a lic variable to get a list of all licenses in the org\n",
    "lic = gis.admin.license.all()\n",
    "\n",
    "# Call the lic variable to print the list of available licenses in the org\n",
    "lic"
   ]
  },
  {
   "cell_type": "code",
   "execution_count": null,
   "metadata": {
    "scrolled": true
   },
   "outputs": [],
   "source": [
    "# Pick the Nth license and pull up the properties of that license\n",
    "lic[3].properties"
   ]
  },
  {
   "cell_type": "code",
   "execution_count": null,
   "metadata": {},
   "outputs": [],
   "source": [
    "# Create a new variable and assign the ArcGIS Pro license so that it can be assigned to a user later in the script\n",
    "pro_license = gis.admin.license.get('ArcGIS Pro')\n",
    "\n",
    "# Call the license variable and return the results\n",
    "pro_license"
   ]
  },
  {
   "cell_type": "code",
   "execution_count": null,
   "metadata": {},
   "outputs": [],
   "source": [
    "# Call the matplotlib library and have it create a plot inline in the notebook\n",
    "%matplotlib inline\n",
    "\n",
    "# Create a plot of the available licenses and also show how many are in use\n",
    "pro_license.plot()"
   ]
  },
  {
   "cell_type": "code",
   "execution_count": null,
   "metadata": {
    "scrolled": true
   },
   "outputs": [],
   "source": [
    "# Create a report of the available licenses as well as how many are in use\n",
    "pro_license.report"
   ]
  },
  {
   "cell_type": "code",
   "execution_count": null,
   "metadata": {},
   "outputs": [],
   "source": [
    "# Call the pro license variable and assign an advanced Named user license to the username specified below.\n",
    "# This will return True if it completes successfully.\n",
    "\n",
    "# In this example a Desktop Advanced Named User license is being assigned\n",
    "pro_license.assign(username = licUser, entitlements = 'desktopAdvN')"
   ]
  },
  {
   "cell_type": "code",
   "execution_count": null,
   "metadata": {},
   "outputs": [],
   "source": [
    "# Assign all of the other available extensions to the username specified below\n",
    "pro_license.assign(username = licUser, entitlements = ['3DAnalystN', 'airportsN', 'bathymetryN', 'businessStdN', 'dataInteropN', 'dataReviewerN', 'defenseN', 'geostatAnalystN', 'imageAnalystN', 'locateXTN', 'LocRefDesktopN', 'maritimeN', 'networkAnalystN', 'productionMapN', 'publisherN', 'spatialAnalystN','workflowMgrN'])\n",
    "\n",
    "\"\"\"\n",
    "Once a License has been assigned to a user, other extensions can also be assigned to the user. Below are a list of extensions \n",
    "that can be assigned to the user (Please note that what is available to you may differ than in the example based on the \n",
    "extensions you have access to).\n",
    "\n",
    "3D Analyst                                  '3DAnalystN' \n",
    "ArcGIS for Aviation: Airports               'airportsN'\n",
    "ArcGIS for Maritime: Bathymetry             'bathymetryN'\n",
    "Business Analyst                            'businessStdN'\n",
    "Data Interoperability                       'dataInteropN'\n",
    "Data Reviewer                               'dataReviewerN'\n",
    "Defense Mapping                             'defenseN'\n",
    "Geostatistical Analyst                      'geostatAnalystN'\n",
    "Image Analyst                               'imageAnalystN'\n",
    "LocateXT                                    'locateXTN'\n",
    "Pipline Referencing/ Roads and Highways     'LocRefDesktopN'\n",
    "ArcGIS for Maritime: Charting               'maritimeN'\n",
    "Network Analyst                             'networkAnalystN'\n",
    "Production Mapping                          'productionMapN'\n",
    "Publisher                                   'publisherN'\n",
    "Spatial Analyst                             'spatialAnalystN'\n",
    "Workflow Manager                            'workflowMgrN'\n",
    "\n",
    "\"\"\""
   ]
  },
  {
   "cell_type": "code",
   "execution_count": null,
   "metadata": {},
   "outputs": [],
   "source": [
    "# Check the user to see which entitlements are already assigned\n",
    "pro_license.user_entitlement(licUser)"
   ]
  },
  {
   "cell_type": "code",
   "execution_count": null,
   "metadata": {},
   "outputs": [],
   "source": [
    "#Revoke licenses for a user, funny enough you can use the * wildcard only to revoke, not assign\n",
    "pro_license.revoke(username = licUser, entitlements = '*')"
   ]
  }
 ],
 "metadata": {
  "kernelspec": {
   "display_name": "Python 3",
   "language": "python",
   "name": "python3"
  },
  "language_info": {
   "codemirror_mode": {
    "name": "ipython",
    "version": 3
   },
   "file_extension": ".py",
   "mimetype": "text/x-python",
   "name": "python",
   "nbconvert_exporter": "python",
   "pygments_lexer": "ipython3",
   "version": "3.6.9"
  }
 },
 "nbformat": 4,
 "nbformat_minor": 2
}